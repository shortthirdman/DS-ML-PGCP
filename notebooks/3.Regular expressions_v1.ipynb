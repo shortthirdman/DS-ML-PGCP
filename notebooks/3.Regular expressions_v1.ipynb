{
 "cells": [
  {
   "cell_type": "markdown",
   "metadata": {},
   "source": [
    "# Regular expressions"
   ]
  },
  {
   "cell_type": "markdown",
   "metadata": {},
   "source": [
    "## Whats the purpose of regular expressions?\n",
    "\n",
    "Regular Expressions are extensively used for:\n",
    "       \n",
    "        1.To Extract insignts about the text ->  findall()\n",
    "        2.To Clean the text -> sub()"
   ]
  },
  {
   "cell_type": "markdown",
   "metadata": {},
   "source": [
    "Basic meta charecters used in regular expressions\n",
    "\n",
    "    . -> matches a single character\n",
    "    * -> matches zero or more occourrence of the previous charecter\n",
    "    + -> matches one or more occourrence of the previous charecter\n",
    "    ^ -> matches any character start of a string\n",
    "    $ -> matches any character end of a string\n",
    "    [] -> matches one of the set of characters within []\n",
    "    [a-z] -> matches on of the range of characters in lowercase alphabet\n",
    "    [^abc] -> matches a character that is not a, b, or c"
   ]
  },
  {
   "cell_type": "code",
   "execution_count": 1,
   "metadata": {},
   "outputs": [],
   "source": [
    "import re\n",
    "import pandas as pd"
   ]
  },
  {
   "cell_type": "code",
   "execution_count": 2,
   "metadata": {},
   "outputs": [],
   "source": [
    "text = 'Around 2,500 patients are taking part in clinical trails #Coronavirus'"
   ]
  },
  {
   "cell_type": "code",
   "execution_count": 3,
   "metadata": {},
   "outputs": [
    {
     "name": "stdout",
     "output_type": "stream",
     "text": [
      "Around 2,500 patients are taking part in clinical trails #Coronavirus\n"
     ]
    },
    {
     "data": {
      "text/plain": [
       "['round',\n",
       " 'patients',\n",
       " 'are',\n",
       " 'taking',\n",
       " 'part',\n",
       " 'in',\n",
       " 'clinical',\n",
       " 'trails',\n",
       " 'oronavirus']"
      ]
     },
     "execution_count": 3,
     "metadata": {},
     "output_type": "execute_result"
    }
   ],
   "source": [
    "print(text)\n",
    "re.findall('[a-z]+', text) # Find all sequency of lower case characters"
   ]
  },
  {
   "cell_type": "code",
   "execution_count": 4,
   "metadata": {},
   "outputs": [
    {
     "name": "stdout",
     "output_type": "stream",
     "text": [
      "Around 2,500 patients are taking part in clinical trails #Coronavirus\n"
     ]
    },
    {
     "data": {
      "text/plain": [
       "['Around',\n",
       " 'patients',\n",
       " 'are',\n",
       " 'taking',\n",
       " 'part',\n",
       " 'in',\n",
       " 'clinical',\n",
       " 'trails',\n",
       " 'Coronavirus']"
      ]
     },
     "execution_count": 4,
     "metadata": {},
     "output_type": "execute_result"
    }
   ],
   "source": [
    "print(text)\n",
    "re.findall('[a-zA-Z]+', text) # Find all sequency of lower & upper case characters"
   ]
  },
  {
   "cell_type": "markdown",
   "metadata": {},
   "source": [
    " Extended Regular Expressions:\n",
    " \n",
    "     \\d -> Any digit, equivalent to [0-9]\n",
    "     \\D -> Any non-digit, equivalent to [^0-9]\n",
    "    \\w -> Any alphanumeric, equivalent to [a-zA-Z0-9_]\n",
    "    \\W -> Non-alphanumeric, equivalent to [^a-zA-Z0-9_]\n",
    "    \\s -> Any whitespace character\n",
    "    \\S -> Any nonwhitespace character\n",
    "    \n",
    "    () -> Scoping for extraction"
   ]
  },
  {
   "cell_type": "code",
   "execution_count": 5,
   "metadata": {},
   "outputs": [
    {
     "name": "stdout",
     "output_type": "stream",
     "text": [
      "Around 2,500 patients are taking part in clinical trails #Coronavirus\n"
     ]
    },
    {
     "data": {
      "text/plain": [
       "['Around',\n",
       " '2',\n",
       " '500',\n",
       " 'patients',\n",
       " 'are',\n",
       " 'taking',\n",
       " 'part',\n",
       " 'in',\n",
       " 'clinical',\n",
       " 'trails',\n",
       " 'Coronavirus']"
      ]
     },
     "execution_count": 5,
     "metadata": {},
     "output_type": "execute_result"
    }
   ],
   "source": [
    "print(text)\n",
    "re.findall('\\w+', text) # Find all sequency of word characters[a-zA-Z0-9]"
   ]
  },
  {
   "cell_type": "code",
   "execution_count": 6,
   "metadata": {},
   "outputs": [
    {
     "name": "stdout",
     "output_type": "stream",
     "text": [
      "Around 2,500 patients are taking part in clinical trails #Coronavirus\n"
     ]
    },
    {
     "data": {
      "text/plain": [
       "'Around2500patientsaretakingpartinclinicaltrailsCoronavirus'"
      ]
     },
     "execution_count": 6,
     "metadata": {},
     "output_type": "execute_result"
    }
   ],
   "source": [
    "print(text)\n",
    "re.sub('[^\\w+]', '', text)"
   ]
  },
  {
   "cell_type": "code",
   "execution_count": 7,
   "metadata": {},
   "outputs": [
    {
     "name": "stdout",
     "output_type": "stream",
     "text": [
      "Around 2,500 patients are taking part in clinical trails #Coronavirus\n"
     ]
    },
    {
     "data": {
      "text/plain": [
       "'Around 2500 patients are taking part in clinical trails Coronavirus'"
      ]
     },
     "execution_count": 7,
     "metadata": {},
     "output_type": "execute_result"
    }
   ],
   "source": [
    "print(text)\n",
    "re.sub('[^\\w+\\s]', '', text)"
   ]
  },
  {
   "cell_type": "code",
   "execution_count": 8,
   "metadata": {},
   "outputs": [],
   "source": [
    "text = 'A message from csev@umich.edu to cwen@iupui.edu about meeting @2PM'"
   ]
  },
  {
   "cell_type": "code",
   "execution_count": 9,
   "metadata": {},
   "outputs": [
    {
     "data": {
      "text/plain": [
       "['csev@umich.edu', 'cwen@iupui.edu']"
      ]
     },
     "execution_count": 9,
     "metadata": {},
     "output_type": "execute_result"
    }
   ],
   "source": [
    "re.findall(\"\\S+@\\S+\", text)"
   ]
  },
  {
   "cell_type": "code",
   "execution_count": 10,
   "metadata": {},
   "outputs": [
    {
     "data": {
      "text/plain": [
       "['umich.edu', 'iupui.edu']"
      ]
     },
     "execution_count": 10,
     "metadata": {},
     "output_type": "execute_result"
    }
   ],
   "source": [
    "re.findall(\"\\S+@(\\S+)\", text)"
   ]
  },
  {
   "cell_type": "markdown",
   "metadata": {},
   "source": [
    "## Extracting hashtags from tweets"
   ]
  },
  {
   "cell_type": "code",
   "execution_count": 11,
   "metadata": {},
   "outputs": [
    {
     "name": "stdout",
     "output_type": "stream",
     "text": [
      "A message from csev@umich.edu to cwen@iupui.edu about meeting @2PM\n",
      "[]\n"
     ]
    }
   ],
   "source": [
    "print(text)\n",
    "print(re.findall('#\\w+', text))"
   ]
  },
  {
   "cell_type": "code",
   "execution_count": 13,
   "metadata": {},
   "outputs": [
    {
     "data": {
      "text/html": [
       "<div>\n",
       "<style scoped>\n",
       "    .dataframe tbody tr th:only-of-type {\n",
       "        vertical-align: middle;\n",
       "    }\n",
       "\n",
       "    .dataframe tbody tr th {\n",
       "        vertical-align: top;\n",
       "    }\n",
       "\n",
       "    .dataframe thead th {\n",
       "        text-align: right;\n",
       "    }\n",
       "</style>\n",
       "<table border=\"1\" class=\"dataframe\">\n",
       "  <thead>\n",
       "    <tr style=\"text-align: right;\">\n",
       "      <th></th>\n",
       "      <th>created_at</th>\n",
       "      <th>language</th>\n",
       "      <th>likes</th>\n",
       "      <th>retweets</th>\n",
       "      <th>text</th>\n",
       "    </tr>\n",
       "  </thead>\n",
       "  <tbody>\n",
       "    <tr>\n",
       "      <th>0</th>\n",
       "      <td>2020-06-17 03:27:56</td>\n",
       "      <td>en</td>\n",
       "      <td>123212.0</td>\n",
       "      <td>18568.0</td>\n",
       "      <td>96% Approval Rating in the Republican Party. T...</td>\n",
       "    </tr>\n",
       "    <tr>\n",
       "      <th>1</th>\n",
       "      <td>2020-06-17 02:45:33</td>\n",
       "      <td>und</td>\n",
       "      <td>0.0</td>\n",
       "      <td>7942.0</td>\n",
       "      <td>RT @TONYxTWO: @thejtlewis @JoeBiden https://t....</td>\n",
       "    </tr>\n",
       "    <tr>\n",
       "      <th>2</th>\n",
       "      <td>2020-06-17 02:38:20</td>\n",
       "      <td>en</td>\n",
       "      <td>0.0</td>\n",
       "      <td>23815.0</td>\n",
       "      <td>RT @thejtlewis: “Trump isn’t going to accept t...</td>\n",
       "    </tr>\n",
       "    <tr>\n",
       "      <th>3</th>\n",
       "      <td>2020-06-17 02:37:01</td>\n",
       "      <td>en</td>\n",
       "      <td>0.0</td>\n",
       "      <td>6781.0</td>\n",
       "      <td>RT @thejtlewis: With the utmost respect, I tha...</td>\n",
       "    </tr>\n",
       "    <tr>\n",
       "      <th>4</th>\n",
       "      <td>2020-06-17 02:31:11</td>\n",
       "      <td>en</td>\n",
       "      <td>56840.0</td>\n",
       "      <td>14231.0</td>\n",
       "      <td>A GREAT woman. Her son is looking down from he...</td>\n",
       "    </tr>\n",
       "  </tbody>\n",
       "</table>\n",
       "</div>"
      ],
      "text/plain": [
       "            created_at language     likes  retweets  \\\n",
       "0  2020-06-17 03:27:56       en  123212.0   18568.0   \n",
       "1  2020-06-17 02:45:33      und       0.0    7942.0   \n",
       "2  2020-06-17 02:38:20       en       0.0   23815.0   \n",
       "3  2020-06-17 02:37:01       en       0.0    6781.0   \n",
       "4  2020-06-17 02:31:11       en   56840.0   14231.0   \n",
       "\n",
       "                                                text  \n",
       "0  96% Approval Rating in the Republican Party. T...  \n",
       "1  RT @TONYxTWO: @thejtlewis @JoeBiden https://t....  \n",
       "2  RT @thejtlewis: “Trump isn’t going to accept t...  \n",
       "3  RT @thejtlewis: With the utmost respect, I tha...  \n",
       "4  A GREAT woman. Her son is looking down from he...  "
      ]
     },
     "execution_count": 13,
     "metadata": {},
     "output_type": "execute_result"
    }
   ],
   "source": [
    "tweets = pd.read_csv('C:/Users/Raghavendra N/OneDrive/Official/Datasets/tweets_donald_trump.csv')\n",
    "tweets.head()"
   ]
  },
  {
   "cell_type": "code",
   "execution_count": 14,
   "metadata": {},
   "outputs": [],
   "source": [
    "all_hashtags = []\n",
    "for row in tweets['text']:\n",
    "    row_hashtags = re.findall('#\\w+', row)\n",
    "    all_hashtags.extend(row_hashtags)"
   ]
  },
  {
   "cell_type": "code",
   "execution_count": 15,
   "metadata": {},
   "outputs": [
    {
     "data": {
      "text/plain": [
       "23"
      ]
     },
     "execution_count": 15,
     "metadata": {},
     "output_type": "execute_result"
    }
   ],
   "source": [
    "len(all_hashtags)"
   ]
  },
  {
   "cell_type": "code",
   "execution_count": 16,
   "metadata": {},
   "outputs": [
    {
     "data": {
      "text/plain": [
       "['#ArmyBda',\n",
       " '#HappyBirthdayTrump',\n",
       " '#GoArmy',\n",
       " '#USMA2020',\n",
       " '#WithVisionWeLead',\n",
       " '#JUSTI',\n",
       " '#BarelyThereBiden',\n",
       " '#MAGA',\n",
       " '#NHSEN',\n",
       " '#2A']"
      ]
     },
     "execution_count": 16,
     "metadata": {},
     "output_type": "execute_result"
    }
   ],
   "source": [
    "all_hashtags[:10]"
   ]
  },
  {
   "cell_type": "code",
   "execution_count": 17,
   "metadata": {},
   "outputs": [
    {
     "data": {
      "text/plain": [
       "#MAGA                4\n",
       "#2A                  2\n",
       "#NHSEN               1\n",
       "#JobsReport          1\n",
       "#WithVisionWeLead    1\n",
       "#FoxNews             1\n",
       "#BarelyThereBiden    1\n",
       "#NH01                1\n",
       "#Democrats           1\n",
       "#AMERICAFirst        1\n",
       "dtype: int64"
      ]
     },
     "execution_count": 17,
     "metadata": {},
     "output_type": "execute_result"
    }
   ],
   "source": [
    "freq_hashtags = pd.Series(all_hashtags).value_counts()\n",
    "freq_hashtags.head(10)"
   ]
  }
 ],
 "metadata": {
  "kernelspec": {
   "display_name": "Python 3",
   "language": "python",
   "name": "python3"
  },
  "language_info": {
   "codemirror_mode": {
    "name": "ipython",
    "version": 3
   },
   "file_extension": ".py",
   "mimetype": "text/x-python",
   "name": "python",
   "nbconvert_exporter": "python",
   "pygments_lexer": "ipython3",
   "version": "3.8.5"
  }
 },
 "nbformat": 4,
 "nbformat_minor": 2
}
